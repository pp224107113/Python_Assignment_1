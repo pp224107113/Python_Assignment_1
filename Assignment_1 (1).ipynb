{
 "cells": [
  {
   "cell_type": "code",
   "execution_count": 1,
   "id": "bb9ba59e-d718-4b55-bf50-a5eaed06a637",
   "metadata": {
    "tags": []
   },
   "outputs": [],
   "source": [
    "# Q1_1"
   ]
  },
  {
   "cell_type": "code",
   "execution_count": 2,
   "id": "c7277b2f-3e21-44a0-a987-5844b8a1d0b8",
   "metadata": {},
   "outputs": [],
   "source": [
    "a = \"Pawan\""
   ]
  },
  {
   "cell_type": "code",
   "execution_count": 3,
   "id": "e72133eb-b955-41be-ab99-4692f7c58624",
   "metadata": {},
   "outputs": [
    {
     "data": {
      "text/plain": [
       "str"
      ]
     },
     "execution_count": 3,
     "metadata": {},
     "output_type": "execute_result"
    }
   ],
   "source": [
    "type(a)"
   ]
  },
  {
   "cell_type": "code",
   "execution_count": 4,
   "id": "b8fb0e4c-8c6b-4819-badf-b43efb6f80d6",
   "metadata": {},
   "outputs": [],
   "source": [
    "# Q1_2"
   ]
  },
  {
   "cell_type": "code",
   "execution_count": 5,
   "id": "218005c9-a04c-4541-a289-60292dd9f6e2",
   "metadata": {},
   "outputs": [],
   "source": [
    "l = [1,3,4,6,641,3,7,9,8,\"pawan\",45.56,True,False]"
   ]
  },
  {
   "cell_type": "code",
   "execution_count": 6,
   "id": "5375b474-ea5f-49c3-8a96-20cdcedd248f",
   "metadata": {
    "tags": []
   },
   "outputs": [
    {
     "data": {
      "text/plain": [
       "list"
      ]
     },
     "execution_count": 6,
     "metadata": {},
     "output_type": "execute_result"
    }
   ],
   "source": [
    "type(l)"
   ]
  },
  {
   "cell_type": "code",
   "execution_count": 7,
   "id": "1037cf1c-9426-42b9-8efb-a3289586e607",
   "metadata": {
    "tags": []
   },
   "outputs": [],
   "source": [
    "# Q1_3"
   ]
  },
  {
   "cell_type": "code",
   "execution_count": 8,
   "id": "2cbc7d49-7801-48dd-bc91-15e1ca08d35a",
   "metadata": {},
   "outputs": [],
   "source": [
    "b = 45.85"
   ]
  },
  {
   "cell_type": "code",
   "execution_count": 9,
   "id": "ed47bfd1-fe98-4677-b34d-cacf37fb3a0e",
   "metadata": {},
   "outputs": [
    {
     "data": {
      "text/plain": [
       "float"
      ]
     },
     "execution_count": 9,
     "metadata": {},
     "output_type": "execute_result"
    }
   ],
   "source": [
    "type(b)"
   ]
  },
  {
   "cell_type": "code",
   "execution_count": 10,
   "id": "f263c515-23cd-4600-ae7e-70d1bf73870d",
   "metadata": {},
   "outputs": [],
   "source": [
    "# Q2_1"
   ]
  },
  {
   "cell_type": "code",
   "execution_count": 11,
   "id": "3d193c6d-0a1b-41f8-91af-63dc7e8777bd",
   "metadata": {},
   "outputs": [],
   "source": [
    "var1 = 'pawan'"
   ]
  },
  {
   "cell_type": "code",
   "execution_count": 12,
   "id": "14528646-9f30-430f-9a2c-f8b691195f19",
   "metadata": {},
   "outputs": [
    {
     "data": {
      "text/plain": [
       "str"
      ]
     },
     "execution_count": 12,
     "metadata": {},
     "output_type": "execute_result"
    }
   ],
   "source": [
    "type(var1)"
   ]
  },
  {
   "cell_type": "code",
   "execution_count": 13,
   "id": "05f7dc13-3c81-4da2-8c99-ddcc3dabc421",
   "metadata": {},
   "outputs": [],
   "source": [
    "# Q2_2"
   ]
  },
  {
   "cell_type": "code",
   "execution_count": 14,
   "id": "22415c49-822c-49a2-b723-82bb413a010b",
   "metadata": {},
   "outputs": [],
   "source": [
    "var2 = '[DS , ML , Python]'\n"
   ]
  },
  {
   "cell_type": "code",
   "execution_count": 15,
   "id": "f4831a61-f5a8-4f94-a587-d7017469cf0c",
   "metadata": {},
   "outputs": [
    {
     "data": {
      "text/plain": [
       "str"
      ]
     },
     "execution_count": 15,
     "metadata": {},
     "output_type": "execute_result"
    }
   ],
   "source": [
    "type(var2)"
   ]
  },
  {
   "cell_type": "code",
   "execution_count": 16,
   "id": "25894523-736d-471a-a4f2-ae602c49218b",
   "metadata": {},
   "outputs": [],
   "source": [
    "#Q2_3"
   ]
  },
  {
   "cell_type": "code",
   "execution_count": 17,
   "id": "59d86c1e-13a4-4758-b8d8-e3014dca7917",
   "metadata": {},
   "outputs": [],
   "source": [
    "var3 = ['DS' , 'ML' ,'Python']"
   ]
  },
  {
   "cell_type": "code",
   "execution_count": 18,
   "id": "59291300-864b-4f05-998f-45ca316c8f57",
   "metadata": {},
   "outputs": [
    {
     "data": {
      "text/plain": [
       "list"
      ]
     },
     "execution_count": 18,
     "metadata": {},
     "output_type": "execute_result"
    }
   ],
   "source": [
    "type(var3)"
   ]
  },
  {
   "cell_type": "code",
   "execution_count": 19,
   "id": "972dd886-2e4e-4149-be22-f94dfdc9dccd",
   "metadata": {},
   "outputs": [],
   "source": [
    "#Q2_4"
   ]
  },
  {
   "cell_type": "code",
   "execution_count": 20,
   "id": "dd50f316-2d31-4eee-9008-f435c67c8746",
   "metadata": {},
   "outputs": [],
   "source": [
    "var4 = 1"
   ]
  },
  {
   "cell_type": "code",
   "execution_count": 21,
   "id": "21d364f1-786d-4f52-ad35-68fd3533ec25",
   "metadata": {},
   "outputs": [
    {
     "data": {
      "text/plain": [
       "int"
      ]
     },
     "execution_count": 21,
     "metadata": {},
     "output_type": "execute_result"
    }
   ],
   "source": [
    "type(var4)"
   ]
  },
  {
   "cell_type": "code",
   "execution_count": 22,
   "id": "7b302c65-85d1-4b38-a20f-7a60b7cd90dc",
   "metadata": {},
   "outputs": [
    {
     "data": {
      "text/plain": [
       "0.25"
      ]
     },
     "execution_count": 22,
     "metadata": {},
     "output_type": "execute_result"
    }
   ],
   "source": [
    "#Q3_1\n",
    "# it is arthimatic operator (/).it is divide the number.example-\n",
    "\n",
    "1/4\n",
    "# 1 divide by 4 than we get 0.25\n",
    "\n"
   ]
  },
  {
   "cell_type": "code",
   "execution_count": 23,
   "id": "be2e4c39-899d-426b-8a77-125da577bbbc",
   "metadata": {},
   "outputs": [
    {
     "data": {
      "text/plain": [
       "2"
      ]
     },
     "execution_count": 23,
     "metadata": {},
     "output_type": "execute_result"
    }
   ],
   "source": [
    "#Q3_2\n",
    "# it is modulus operator. it is provide reminder.example\n",
    "9%7\n",
    "# 9 divide by 7 than we get 2 reminder."
   ]
  },
  {
   "cell_type": "code",
   "execution_count": 24,
   "id": "6798239c-fb97-469f-9bf2-7d64b9604fc1",
   "metadata": {},
   "outputs": [
    {
     "data": {
      "text/plain": [
       "1"
      ]
     },
     "execution_count": 24,
     "metadata": {},
     "output_type": "execute_result"
    }
   ],
   "source": [
    "5%4"
   ]
  },
  {
   "cell_type": "code",
   "execution_count": 25,
   "id": "78771171-9509-460f-b89e-aeee5b88c26a",
   "metadata": {},
   "outputs": [
    {
     "data": {
      "text/plain": [
       "3"
      ]
     },
     "execution_count": 25,
     "metadata": {},
     "output_type": "execute_result"
    }
   ],
   "source": [
    "#Q3_3\n",
    "# it is provide division.\n",
    "7//2\n",
    "# 7 divide by 2 than we get 3 division.\n"
   ]
  },
  {
   "cell_type": "code",
   "execution_count": 26,
   "id": "8c0bcaa1-a1bc-49eb-beb0-8a6ab3ba1888",
   "metadata": {},
   "outputs": [
    {
     "data": {
      "text/plain": [
       "5"
      ]
     },
     "execution_count": 26,
     "metadata": {},
     "output_type": "execute_result"
    }
   ],
   "source": [
    "45//8"
   ]
  },
  {
   "cell_type": "code",
   "execution_count": 27,
   "id": "f2443999-260e-4c10-a698-b05716546706",
   "metadata": {},
   "outputs": [
    {
     "data": {
      "text/plain": [
       "16"
      ]
     },
     "execution_count": 27,
     "metadata": {},
     "output_type": "execute_result"
    }
   ],
   "source": [
    "#Q3_4\n",
    "# it is power operator.\n",
    "2**4\n",
    "# 2 power of 4 than we get 16."
   ]
  },
  {
   "cell_type": "code",
   "execution_count": 28,
   "id": "828e9737-f83c-4563-940d-70a38ab01bdc",
   "metadata": {},
   "outputs": [
    {
     "name": "stdout",
     "output_type": "stream",
     "text": [
      "1\n",
      "<class 'int'>\n",
      "2\n",
      "<class 'int'>\n",
      "3\n",
      "<class 'int'>\n",
      "5\n",
      "<class 'int'>\n",
      "pawan\n",
      "<class 'str'>\n",
      "pawa\n",
      "<class 'str'>\n",
      "True\n",
      "<class 'bool'>\n",
      "12.45\n",
      "<class 'float'>\n",
      "12\n",
      "<class 'int'>\n",
      "45\n",
      "<class 'int'>\n"
     ]
    }
   ],
   "source": [
    "#Q4\n",
    "\n",
    "l = [ 1,2,3,5,'pawan' ,\"pawa\" , True ,12.45, 12,45]\n",
    "for n in l:\n",
    "    print(n)\n",
    "    print(type(n))\n"
   ]
  },
  {
   "cell_type": "code",
   "execution_count": 33,
   "id": "e336647d-c1b8-492b-b1c7-0710c3d7f77a",
   "metadata": {},
   "outputs": [
    {
     "name": "stdin",
     "output_type": "stream",
     "text": [
      " 45\n",
      " 4\n"
     ]
    },
    {
     "name": "stdout",
     "output_type": "stream",
     "text": [
      "A is not divisiable by B\n"
     ]
    }
   ],
   "source": [
    "#Q5\n",
    "A = int(input())\n",
    "B = int(input())\n",
    "n = A%B\n",
    "while n == 0:\n",
    "    i = A//B\n",
    "    print(i)\n",
    "    break\n",
    "else:\n",
    "        print(\"A is not divisiable by B\")\n",
    "        "
   ]
  },
  {
   "cell_type": "code",
   "execution_count": 30,
   "id": "206725b8-a7f9-4cd0-8dc7-0057619544e1",
   "metadata": {},
   "outputs": [
    {
     "name": "stdout",
     "output_type": "stream",
     "text": [
      "1\n",
      "1\n",
      "i is not divisiable by 3\n",
      "2\n",
      "2\n",
      "i is not divisiable by 3\n",
      "3\n",
      "0\n",
      "i is divisiable by 3\n",
      "4\n",
      "1\n",
      "i is not divisiable by 3\n",
      "5\n",
      "2\n",
      "i is not divisiable by 3\n",
      "6\n",
      "0\n",
      "i is divisiable by 3\n",
      "7\n",
      "1\n",
      "i is not divisiable by 3\n",
      "8\n",
      "2\n",
      "i is not divisiable by 3\n",
      "9\n",
      "0\n",
      "i is divisiable by 3\n",
      "10\n",
      "1\n",
      "i is not divisiable by 3\n",
      "11\n",
      "2\n",
      "i is not divisiable by 3\n",
      "12\n",
      "0\n",
      "i is divisiable by 3\n",
      "13\n",
      "1\n",
      "i is not divisiable by 3\n",
      "14\n",
      "2\n",
      "i is not divisiable by 3\n",
      "15\n",
      "0\n",
      "i is divisiable by 3\n",
      "16\n",
      "1\n",
      "i is not divisiable by 3\n",
      "17\n",
      "2\n",
      "i is not divisiable by 3\n",
      "18\n",
      "0\n",
      "i is divisiable by 3\n",
      "19\n",
      "1\n",
      "i is not divisiable by 3\n",
      "20\n",
      "2\n",
      "i is not divisiable by 3\n",
      "21\n",
      "0\n",
      "i is divisiable by 3\n",
      "22\n",
      "1\n",
      "i is not divisiable by 3\n",
      "23\n",
      "2\n",
      "i is not divisiable by 3\n",
      "24\n",
      "0\n",
      "i is divisiable by 3\n",
      "25\n",
      "1\n",
      "i is not divisiable by 3\n"
     ]
    }
   ],
   "source": [
    "#Q6\n",
    "l = [1,2,3,4,5,6,7,8,9,10,11,12,13,14,15,16,17,18,19,20,21,22,23,24,25]\n",
    "for i in l:\n",
    "    print(i)\n",
    "    n = i%3\n",
    "    print(n)\n",
    "    if n == 0:\n",
    "        print(\"i is divisiable by 3\")\n",
    "    else:\n",
    "        print(\"i is not divisiable by 3\")\n",
    "    "
   ]
  },
  {
   "cell_type": "code",
   "execution_count": 34,
   "id": "ae43cd58-7e55-4e61-bc26-b2ff50f3639b",
   "metadata": {},
   "outputs": [
    {
     "ename": "TypeError",
     "evalue": "'str' object does not support item assignment",
     "output_type": "error",
     "traceback": [
      "\u001b[0;31m---------------------------------------------------------------------------\u001b[0m",
      "\u001b[0;31mTypeError\u001b[0m                                 Traceback (most recent call last)",
      "Cell \u001b[0;32mIn[34], line 4\u001b[0m\n\u001b[1;32m      1\u001b[0m \u001b[38;5;66;03m#Q7\u001b[39;00m\n\u001b[1;32m      2\u001b[0m \u001b[38;5;66;03m# string is immutable data type.we can't replace data in string.example-\u001b[39;00m\n\u001b[1;32m      3\u001b[0m s \u001b[38;5;241m=\u001b[39m \u001b[38;5;124m\"\u001b[39m\u001b[38;5;124mpawan\u001b[39m\u001b[38;5;124m\"\u001b[39m\n\u001b[0;32m----> 4\u001b[0m \u001b[43ms\u001b[49m\u001b[43m[\u001b[49m\u001b[38;5;241;43m0\u001b[39;49m\u001b[43m]\u001b[49m \u001b[38;5;241m=\u001b[39m n\n",
      "\u001b[0;31mTypeError\u001b[0m: 'str' object does not support item assignment"
     ]
    }
   ],
   "source": [
    "#Q7\n",
    "# string is immutable data type.we can't replace data in string.example-\n",
    "s = \"pawan\"\n",
    "s[0] = n\n"
   ]
  },
  {
   "cell_type": "code",
   "execution_count": 35,
   "id": "22db14ea-2316-4c88-a209-ae159e40749c",
   "metadata": {},
   "outputs": [],
   "source": [
    "#Q7\n",
    "# list is mutable data type. we can replace data in list.example- \n",
    "l = [1,2,3,4,5,6,7,8,9,45.65,\"pawan\",True]\n",
    "l[0] = 98"
   ]
  },
  {
   "cell_type": "code",
   "execution_count": 36,
   "id": "0a7bb371-86d1-4ab1-8f5e-a1517f2df3a9",
   "metadata": {},
   "outputs": [
    {
     "data": {
      "text/plain": [
       "[98, 2, 3, 4, 5, 6, 7, 8, 9, 45.65, 'pawan', True]"
      ]
     },
     "execution_count": 36,
     "metadata": {},
     "output_type": "execute_result"
    }
   ],
   "source": [
    "l"
   ]
  },
  {
   "cell_type": "code",
   "execution_count": null,
   "id": "a5032b17-4bba-4a69-9dcb-8629593b6301",
   "metadata": {},
   "outputs": [],
   "source": [
    "l["
   ]
  }
 ],
 "metadata": {
  "kernelspec": {
   "display_name": "Python 3 (ipykernel)",
   "language": "python",
   "name": "python3"
  },
  "language_info": {
   "codemirror_mode": {
    "name": "ipython",
    "version": 3
   },
   "file_extension": ".py",
   "mimetype": "text/x-python",
   "name": "python",
   "nbconvert_exporter": "python",
   "pygments_lexer": "ipython3",
   "version": "3.10.8"
  }
 },
 "nbformat": 4,
 "nbformat_minor": 5
}
